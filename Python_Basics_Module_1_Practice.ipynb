{
  "nbformat": 4,
  "nbformat_minor": 0,
  "metadata": {
    "colab": {
      "provenance": [],
      "toc_visible": true,
      "authorship_tag": "ABX9TyMQG3joqJvINj/5YDhY7Vtc",
      "include_colab_link": true
    },
    "kernelspec": {
      "name": "python3",
      "display_name": "Python 3"
    },
    "language_info": {
      "name": "python"
    }
  },
  "cells": [
    {
      "cell_type": "markdown",
      "metadata": {
        "id": "view-in-github",
        "colab_type": "text"
      },
      "source": [
        "<a href=\"https://colab.research.google.com/github/saunderson987/Python_excel_Automation/blob/main/Python_Basics_Module_1_Practice.ipynb\" target=\"_parent\"><img src=\"https://colab.research.google.com/assets/colab-badge.svg\" alt=\"Open In Colab\"/></a>"
      ]
    },
    {
      "cell_type": "code",
      "execution_count": null,
      "metadata": {
        "id": "9Ue4KfxLbOmz"
      },
      "outputs": [],
      "source": []
    },
    {
      "cell_type": "markdown",
      "source": [
        "#1. Syntax"
      ],
      "metadata": {
        "id": "9dPonwEkdNYq"
      }
    },
    {
      "cell_type": "code",
      "source": [
        "# Comment\n",
        "# This is a comment !"
      ],
      "metadata": {
        "id": "QCtU76bgetBV"
      },
      "execution_count": null,
      "outputs": []
    },
    {
      "cell_type": "code",
      "source": [
        "print('Hello World')\n",
        "# as Hello world is a string you have to add single or double quotation marks"
      ],
      "metadata": {
        "colab": {
          "base_uri": "https://localhost:8080/"
        },
        "id": "bEcDwLm2fJ4v",
        "outputId": "ddc079c6-af53-4fe9-cc46-538952a1a4f1"
      },
      "execution_count": null,
      "outputs": [
        {
          "output_type": "stream",
          "name": "stdout",
          "text": [
            "Hello World\n"
          ]
        }
      ]
    },
    {
      "cell_type": "code",
      "source": [
        "print(2)\n",
        "#helpful for keeping track of order of execution (no quotation for numbers)"
      ],
      "metadata": {
        "colab": {
          "base_uri": "https://localhost:8080/"
        },
        "id": "BvfSdk-dgM2C",
        "outputId": "0b3cfdbe-dc66-481a-bb9a-fdece4603ae0"
      },
      "execution_count": null,
      "outputs": [
        {
          "output_type": "stream",
          "name": "stdout",
          "text": [
            "2\n"
          ]
        }
      ]
    },
    {
      "cell_type": "code",
      "source": [
        "#operations / calculation\n",
        "print(2+3)"
      ],
      "metadata": {
        "colab": {
          "base_uri": "https://localhost:8080/"
        },
        "id": "ZfWSt4VogbQp",
        "outputId": "549658a9-dc9b-4095-c68b-c1202716ab29"
      },
      "execution_count": null,
      "outputs": [
        {
          "output_type": "stream",
          "name": "stdout",
          "text": [
            "5\n"
          ]
        }
      ]
    },
    {
      "cell_type": "code",
      "source": [
        "2+3\n",
        "#use print is better as it only shows printed results if is more than one formula in text string"
      ],
      "metadata": {
        "colab": {
          "base_uri": "https://localhost:8080/"
        },
        "id": "2BNfw0hegjYg",
        "outputId": "7d667c7e-8b63-4eaf-c005-2de8b2823496"
      },
      "execution_count": null,
      "outputs": [
        {
          "output_type": "execute_result",
          "data": {
            "text/plain": [
              "5"
            ]
          },
          "metadata": {},
          "execution_count": 13
        }
      ]
    },
    {
      "cell_type": "code",
      "source": [
        "print(2+3)\n",
        "print(1*8)"
      ],
      "metadata": {
        "colab": {
          "base_uri": "https://localhost:8080/"
        },
        "id": "8mectGWPg1Y4",
        "outputId": "a7295a24-c147-479e-f646-4e3041c14dcd"
      },
      "execution_count": null,
      "outputs": [
        {
          "output_type": "stream",
          "name": "stdout",
          "text": [
            "5\n",
            "8\n"
          ]
        }
      ]
    },
    {
      "cell_type": "code",
      "source": [
        "print('hey')\n",
        "print(\"hey\")"
      ],
      "metadata": {
        "colab": {
          "base_uri": "https://localhost:8080/"
        },
        "id": "KRijYlvng5lY",
        "outputId": "e00c630a-10da-485d-a540-142c7b015461"
      },
      "execution_count": null,
      "outputs": [
        {
          "output_type": "stream",
          "name": "stdout",
          "text": [
            "hey\n",
            "hey\n"
          ]
        }
      ]
    },
    {
      "cell_type": "code",
      "source": [
        "#variables\n",
        "#to assign a value use the symbol =\n",
        "# assign a numerical variable\n",
        "x=2\n",
        "y=3\n",
        "\n",
        "print(x,y)"
      ],
      "metadata": {
        "colab": {
          "base_uri": "https://localhost:8080/"
        },
        "id": "KZ9U9urIhAQi",
        "outputId": "9544d303-be5e-4904-c149-c69c90d3f816"
      },
      "execution_count": null,
      "outputs": [
        {
          "output_type": "stream",
          "name": "stdout",
          "text": [
            "2 3\n"
          ]
        }
      ]
    },
    {
      "cell_type": "code",
      "source": [
        "x+y"
      ],
      "metadata": {
        "colab": {
          "base_uri": "https://localhost:8080/"
        },
        "id": "iEwWVDtghiAE",
        "outputId": "d8b2ae88-eded-4412-dd80-700529be2c5b"
      },
      "execution_count": null,
      "outputs": [
        {
          "output_type": "execute_result",
          "data": {
            "text/plain": [
              "5"
            ]
          },
          "metadata": {},
          "execution_count": 20
        }
      ]
    },
    {
      "cell_type": "code",
      "source": [
        "#assign a 'text' value to a variable\n",
        "#make operations with strings\n",
        "#do not capitalise functions\n",
        "\n",
        "string1='love'\n",
        "string2='data'\n",
        "\n",
        "print(string1+' '+string2)"
      ],
      "metadata": {
        "colab": {
          "base_uri": "https://localhost:8080/"
        },
        "id": "MXCJEX2XhkSI",
        "outputId": "407960c8-83f3-4862-d3fe-de9315bd92a4"
      },
      "execution_count": null,
      "outputs": [
        {
          "output_type": "stream",
          "name": "stdout",
          "text": [
            "love data\n"
          ]
        }
      ]
    },
    {
      "cell_type": "markdown",
      "source": [
        "# 2. Workflow & Indentation"
      ],
      "metadata": {
        "id": "dvDwVljqiMmc"
      }
    },
    {
      "cell_type": "code",
      "source": [
        "#python will give you an error if you skip indentation (4 spaces before the formula)\n",
        "\n",
        "a=5\n",
        "b=2\n",
        "\n",
        "if a>b:\n",
        "  print('a is greater than b!')"
      ],
      "metadata": {
        "colab": {
          "base_uri": "https://localhost:8080/"
        },
        "id": "hrbv-L8ZiTvp",
        "outputId": "457bc2d8-f441-4b84-c223-1893c2c2595a"
      },
      "execution_count": null,
      "outputs": [
        {
          "output_type": "stream",
          "name": "stdout",
          "text": [
            "a is greater than b!\n"
          ]
        }
      ]
    },
    {
      "cell_type": "markdown",
      "source": [
        "# 3. True, False"
      ],
      "metadata": {
        "id": "61-L18qNjN-C"
      }
    },
    {
      "cell_type": "code",
      "source": [
        "#Boolean True, False\n",
        "#if a statement is correct then it will return True\n",
        "#if the statement is not correct, it will return false\n",
        "#use==symbol\n",
        "\n",
        "a=1\n",
        "b=2\n",
        "c=1\n",
        "\n",
        "print(a==b)"
      ],
      "metadata": {
        "colab": {
          "base_uri": "https://localhost:8080/"
        },
        "id": "9efrky2giqTh",
        "outputId": "5ff10016-5a35-43d4-a910-5e3fa97da076"
      },
      "execution_count": null,
      "outputs": [
        {
          "output_type": "stream",
          "name": "stdout",
          "text": [
            "False\n"
          ]
        }
      ]
    },
    {
      "cell_type": "code",
      "source": [
        "print(a==c)"
      ],
      "metadata": {
        "colab": {
          "base_uri": "https://localhost:8080/"
        },
        "id": "y4wpp6XKkboY",
        "outputId": "1ea60a0c-00e3-4c47-ed80-2fa39a03f0a5"
      },
      "execution_count": null,
      "outputs": [
        {
          "output_type": "stream",
          "name": "stdout",
          "text": [
            "True\n"
          ]
        }
      ]
    },
    {
      "cell_type": "markdown",
      "source": [
        "# 4. Condition: IF, ELSE, ELIF"
      ],
      "metadata": {
        "id": "TDT3lb6Lk6K6"
      }
    },
    {
      "cell_type": "code",
      "source": [
        "#if the statement is true then... do something\n",
        "\n",
        "x=1\n",
        "\n",
        "if x>0:\n",
        "  print('x is greater than 0')"
      ],
      "metadata": {
        "colab": {
          "base_uri": "https://localhost:8080/"
        },
        "id": "mZBZ0sFalNDo",
        "outputId": "1a96bcee-92fe-4cb6-aedd-97c404d4a2b4"
      },
      "execution_count": null,
      "outputs": [
        {
          "output_type": "stream",
          "name": "stdout",
          "text": [
            "x is greater than 0\n"
          ]
        }
      ]
    },
    {
      "cell_type": "code",
      "source": [
        "var_1=2\n",
        "print(var_1)"
      ],
      "metadata": {
        "colab": {
          "base_uri": "https://localhost:8080/"
        },
        "id": "RFLTikHJlzkX",
        "outputId": "c14ad979-c45e-44c7-caed-cf3e848110a2"
      },
      "execution_count": null,
      "outputs": [
        {
          "output_type": "stream",
          "name": "stdout",
          "text": [
            "2\n"
          ]
        }
      ]
    },
    {
      "cell_type": "code",
      "source": [
        "x = -2\n",
        "if x>0:\n",
        "  print('x is greater than 0')"
      ],
      "metadata": {
        "id": "8t-TpMXpmUZ-"
      },
      "execution_count": null,
      "outputs": []
    },
    {
      "cell_type": "code",
      "source": [
        "#if the statement is true then... do something, ELSE do something else\n",
        "\n",
        "x=-5\n",
        "if x>0:\n",
        "  print('x is greater than 0')\n",
        "else:\n",
        "  print('x is less than 0')"
      ],
      "metadata": {
        "colab": {
          "base_uri": "https://localhost:8080/"
        },
        "id": "COHgqr_EmdjO",
        "outputId": "8ee73ace-40d2-4281-e39c-a09b3330e1ed"
      },
      "execution_count": null,
      "outputs": [
        {
          "output_type": "stream",
          "name": "stdout",
          "text": [
            "x is less than 0\n"
          ]
        }
      ]
    },
    {
      "cell_type": "code",
      "source": [
        "x=0\n",
        "\n",
        "if x>0:\n",
        "  print('x is greater than 0')\n",
        "elif x==0:\n",
        "  print('x is equal to zero')\n",
        "else:\n",
        "  print('x is less than 0')"
      ],
      "metadata": {
        "colab": {
          "base_uri": "https://localhost:8080/"
        },
        "id": "bJ38aw-enJxB",
        "outputId": "748d75de-b2c3-40df-b67e-dabf452e0bdb"
      },
      "execution_count": null,
      "outputs": [
        {
          "output_type": "stream",
          "name": "stdout",
          "text": [
            "x is equal to zero\n"
          ]
        }
      ]
    },
    {
      "cell_type": "code",
      "source": [
        "grade=9\n",
        "\n",
        "if grade<5:\n",
        "  print('You failed')\n",
        "elif grade <=8 and grade >=5:\n",
        "  print('You passed')\n",
        "else: \n",
        "  print('Exceeds expectations')\n",
        "  #Need to do the task here"
      ],
      "metadata": {
        "colab": {
          "base_uri": "https://localhost:8080/"
        },
        "id": "6TqfGqh0oJO8",
        "outputId": "36d16c4c-c8c8-4d9a-c59b-4e18a18d149a"
      },
      "execution_count": 15,
      "outputs": [
        {
          "output_type": "stream",
          "name": "stdout",
          "text": [
            "Exceeds expectations\n"
          ]
        }
      ]
    },
    {
      "cell_type": "code",
      "source": [],
      "metadata": {
        "id": "0mEM4HJzoOnr"
      },
      "execution_count": null,
      "outputs": []
    },
    {
      "cell_type": "markdown",
      "source": [
        "# 5. variable type"
      ],
      "metadata": {
        "id": "IdECuXGUpCB8"
      }
    },
    {
      "cell_type": "code",
      "source": [
        "#integer\n",
        "#answer is a type of integer\n",
        "age = 7\n",
        "print(type(age))"
      ],
      "metadata": {
        "colab": {
          "base_uri": "https://localhost:8080/"
        },
        "id": "GxezxFP1pGPy",
        "outputId": "d93fb736-7a18-4244-df66-17fa584be9e9"
      },
      "execution_count": null,
      "outputs": [
        {
          "output_type": "stream",
          "name": "stdout",
          "text": [
            "<class 'int'>\n"
          ]
        }
      ]
    },
    {
      "cell_type": "code",
      "source": [
        "#float\n",
        "#answer: float\n",
        "age = 7.5\n",
        "print(type(age))"
      ],
      "metadata": {
        "colab": {
          "base_uri": "https://localhost:8080/"
        },
        "id": "6Px5C84TpazD",
        "outputId": "cfe0825c-e50a-4018-c665-9f7ae22cf5c3"
      },
      "execution_count": null,
      "outputs": [
        {
          "output_type": "stream",
          "name": "stdout",
          "text": [
            "<class 'float'>\n"
          ]
        }
      ]
    },
    {
      "cell_type": "code",
      "source": [
        "#string\n",
        "name = 'Jessica'\n",
        "print(type(name))"
      ],
      "metadata": {
        "colab": {
          "base_uri": "https://localhost:8080/"
        },
        "id": "jhNJRo2Jpn17",
        "outputId": "ddb9bfca-f6b2-42d6-a051-315cbc888d1d"
      },
      "execution_count": null,
      "outputs": [
        {
          "output_type": "stream",
          "name": "stdout",
          "text": [
            "<class 'str'>\n"
          ]
        }
      ]
    },
    {
      "cell_type": "code",
      "source": [
        "pi_string= \"3.142\"\n",
        "print(pi_string)\n",
        "print(type(pi_string))"
      ],
      "metadata": {
        "colab": {
          "base_uri": "https://localhost:8080/"
        },
        "id": "7qnIl6VWpyND",
        "outputId": "4ed1cc99-71a4-4c11-d0cd-3553a3165653"
      },
      "execution_count": null,
      "outputs": [
        {
          "output_type": "stream",
          "name": "stdout",
          "text": [
            "3.142\n",
            "<class 'str'>\n"
          ]
        }
      ]
    },
    {
      "cell_type": "code",
      "source": [
        "#convert text to value\n",
        "pi_float=float(pi_string)\n",
        "print(pi_float)\n",
        "print(type(pi_float))"
      ],
      "metadata": {
        "colab": {
          "base_uri": "https://localhost:8080/"
        },
        "id": "F-fqkjedqGXj",
        "outputId": "fc77f49d-ce8a-48f2-a9ac-23e26d0c6282"
      },
      "execution_count": null,
      "outputs": [
        {
          "output_type": "stream",
          "name": "stdout",
          "text": [
            "3.142\n",
            "<class 'float'>\n"
          ]
        }
      ]
    },
    {
      "cell_type": "code",
      "source": [
        "pi_int=int(pi_float)\n",
        "print(pi_int)\n",
        "print(type(pi_int))"
      ],
      "metadata": {
        "colab": {
          "base_uri": "https://localhost:8080/"
        },
        "id": "0-j7CjxvqWyb",
        "outputId": "7f5f3469-c4a3-4796-d7cf-a9900c04a659"
      },
      "execution_count": null,
      "outputs": [
        {
          "output_type": "stream",
          "name": "stdout",
          "text": [
            "3\n",
            "<class 'int'>\n"
          ]
        }
      ]
    },
    {
      "cell_type": "code",
      "source": [
        "var_float=3.6\n",
        "int(var_float)"
      ],
      "metadata": {
        "colab": {
          "base_uri": "https://localhost:8080/"
        },
        "id": "DyKf7FnXqzhe",
        "outputId": "73752c70-c27b-430d-fc91-d59f2b2c9867"
      },
      "execution_count": null,
      "outputs": [
        {
          "output_type": "execute_result",
          "data": {
            "text/plain": [
              "3"
            ]
          },
          "metadata": {},
          "execution_count": 75
        }
      ]
    },
    {
      "cell_type": "code",
      "source": [
        "#tuple\n",
        "name_age= (name, age)\n",
        "print(name_age)\n",
        "print(type(name_age))"
      ],
      "metadata": {
        "colab": {
          "base_uri": "https://localhost:8080/"
        },
        "id": "QISvz_YVq8Gy",
        "outputId": "02defbbe-cf7b-4a0e-a5ba-629914043a33"
      },
      "execution_count": null,
      "outputs": [
        {
          "output_type": "stream",
          "name": "stdout",
          "text": [
            "('Jessica', 7.5)\n",
            "<class 'tuple'>\n"
          ]
        }
      ]
    },
    {
      "cell_type": "code",
      "source": [
        "#date\n",
        "date = '2022-12-31' #separated by hypens\n",
        "print(date)\n",
        "print(type(date)) #thinks it is a string"
      ],
      "metadata": {
        "colab": {
          "base_uri": "https://localhost:8080/"
        },
        "id": "2Tr7NTgGrUWU",
        "outputId": "d3bf0ee8-981a-463b-a9c5-746b1d29a038"
      },
      "execution_count": null,
      "outputs": [
        {
          "output_type": "stream",
          "name": "stdout",
          "text": [
            "2022-12-31\n",
            "<class 'str'>\n"
          ]
        }
      ]
    },
    {
      "cell_type": "code",
      "source": [
        "#to manipulate dates in Python, need to import dateime package from datetime modules (very important !!!)\n",
        "\n",
        "from datetime import datetime"
      ],
      "metadata": {
        "id": "khYgNiurr0uV"
      },
      "execution_count": null,
      "outputs": []
    },
    {
      "cell_type": "code",
      "source": [
        "date"
      ],
      "metadata": {
        "id": "V3jG5KHysPxW"
      },
      "execution_count": null,
      "outputs": []
    }
  ]
}